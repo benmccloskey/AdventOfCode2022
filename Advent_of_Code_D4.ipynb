{
  "nbformat": 4,
  "nbformat_minor": 0,
  "metadata": {
    "colab": {
      "provenance": [],
      "mount_file_id": "12s8ShVOviD8AaSPO4bw_QUioLC2nzzft",
      "authorship_tag": "ABX9TyO6N+FpcC2ft6LvoopDuHo1",
      "include_colab_link": true
    },
    "kernelspec": {
      "name": "python3",
      "display_name": "Python 3"
    },
    "language_info": {
      "name": "python"
    }
  },
  "cells": [
    {
      "cell_type": "markdown",
      "metadata": {
        "id": "view-in-github",
        "colab_type": "text"
      },
      "source": [
        "<a href=\"https://colab.research.google.com/github/benmccloskey/AdventOfCode2022/blob/main/Advent_of_Code_D4.ipynb\" target=\"_parent\"><img src=\"https://colab.research.google.com/assets/colab-badge.svg\" alt=\"Open In Colab\"/></a>"
      ]
    },
    {
      "cell_type": "markdown",
      "source": [
        "## Day 4\n",
        "\n",
        "Space needs to be cleared before the last supplies can be unloaded from the ships, and so several Elves have been assigned the job of cleaning up sections of the camp. Every section has a unique ID number, and each Elf is assigned a range of section IDs.\n",
        "\n",
        "However, as some of the Elves compare their section assignments with each other, they've noticed that many of the assignments overlap. To try to quickly find overlaps and reduce duplicated effort, the Elves pair up and make a big list of the section assignments for each pair (your puzzle input).\n",
        "\n",
        "For example, consider the following list of section assignment pairs:\n",
        "\n",
        "2-4,6-8\n",
        "2-3,4-5\n",
        "5-7,7-9\n",
        "2-8,3-7\n",
        "6-6,4-6\n",
        "2-6,4-8\n",
        "For the first few pairs, this list means:\n",
        "\n",
        "Within the first pair of Elves, the first Elf was assigned sections 2-4 (sections 2, 3, and 4), while the second Elf was assigned sections 6-8 (sections 6, 7, 8).\n",
        "The Elves in the second pair were each assigned two sections.\n",
        "The Elves in the third pair were each assigned three sections: one got sections 5, 6, and 7, while the other also got 7, plus 8 and 9.\n",
        "This example list uses single-digit section IDs to make it easier to draw; your actual list might contain larger numbers. Visually, these pairs of section assignments look like this:\n",
        "\n",
        ".234.....  2-4\n",
        ".....678.  6-8\n",
        "\n",
        ".23......  2-3\n",
        "...45....  4-5\n",
        "\n",
        "....567..  5-7\n",
        "......789  7-9\n",
        "\n",
        ".2345678.  2-8\n",
        "..34567..  3-7\n",
        "\n",
        ".....6...  6-6\n",
        "...456...  4-6\n",
        "\n",
        ".23456...  2-6\n",
        "...45678.  4-8\n",
        "Some of the pairs have noticed that one of their assignments fully contains the other. For example, 2-8 fully contains 3-7, and 6-6 is fully contained by 4-6. In pairs where one assignment fully contains the other, one Elf in the pair would be exclusively cleaning sections their partner will already be cleaning, so these seem like the most in need of reconsideration. In this example, there are 2 such pairs.\n",
        "\n",
        "In how many assignment pairs does one range fully contain the other?"
      ],
      "metadata": {
        "id": "Fgh6Pndyavz1"
      }
    },
    {
      "cell_type": "code",
      "source": [
        "test = [['2-4','6-8'],\n",
        "['2-3','4-5'],\n",
        "['5-7','7-9'],\n",
        "['2-8','3-7'],\n",
        "['6-6','4-6'],\n",
        "['2-6','4-8']]"
      ],
      "metadata": {
        "id": "Zalp2iotavSZ"
      },
      "execution_count": 26,
      "outputs": []
    },
    {
      "cell_type": "code",
      "source": [
        "count = 0\n",
        "for i in range(len(test)):\n",
        "\n",
        "  r1,r2 = test[i][0].split('-')\n",
        "  r3,r4 =  test[i][1].split('-')\n",
        "  r1 = int(r1)\n",
        "  r2 = int(r2)\n",
        "  r3 = int(r3)\n",
        "  r4 = int(r4)\n",
        "  if set((range(r1,r2 +1))).issubset(range(r3,r4+1)) == True or set((range(r3,r4 +1))).issubset(range(r1,r2+1)) == True:\n",
        "    count +=1\n"
      ],
      "metadata": {
        "id": "rbdTDSbkbXVd"
      },
      "execution_count": 29,
      "outputs": []
    },
    {
      "cell_type": "code",
      "source": [
        "f ='/content/drive/MyDrive/D4_input.txt'"
      ],
      "metadata": {
        "id": "EDjsunMKbYc8"
      },
      "execution_count": 31,
      "outputs": []
    },
    {
      "cell_type": "code",
      "source": [
        "badges = []\n",
        "for line in open(f):\n",
        "  b1,b2 = line.split(',')\n",
        "  badges.append([str(b1),str(b2.replace('\\n',''))])\n",
        "count=0\n",
        "for i in range(len(badges)):\n",
        "\n",
        "  r1,r2 = badges[i][0].split('-')\n",
        "  r3,r4 =  badges[i][1].split('-')\n",
        "  r1 = int(r1)\n",
        "  r2 = int(r2)\n",
        "  r3 = int(r3)\n",
        "  r4 = int(r4)\n",
        "  if set((range(r1,r2 +1))).issubset(range(r3,r4+1)) == True or set((range(r3,r4 +1))).issubset(range(r1,r2+1)) == True:\n",
        "    count +=1"
      ],
      "metadata": {
        "id": "XtMzXWUtblQt"
      },
      "execution_count": 52,
      "outputs": []
    },
    {
      "cell_type": "code",
      "source": [
        "## Part 2"
      ],
      "metadata": {
        "colab": {
          "base_uri": "https://localhost:8080/"
        },
        "id": "NSylvVXDeeb0",
        "outputId": "f8526850-c4f6-4af2-afb2-775c0f2635f4"
      },
      "execution_count": 50,
      "outputs": [
        {
          "output_type": "stream",
          "name": "stdout",
          "text": [
            "0\n"
          ]
        }
      ]
    },
    {
      "cell_type": "code",
      "source": [
        "def range_intersect(a: range, b:range) -> range:\n",
        "  return range(max((a.start, b.start)), min((a.stop, b.stop)))"
      ],
      "metadata": {
        "id": "2yLwmo3ce_Ku"
      },
      "execution_count": 72,
      "outputs": []
    },
    {
      "cell_type": "code",
      "source": [
        "count = 0\n",
        "for i in range(len(test)):\n",
        "  r1,r2 = test[i][0].split('-')\n",
        "  r3,r4 =  test[i][1].split('-')\n",
        "  r1 = int(r1)\n",
        "  r2 = int(r2)\n",
        "  r3 = int(r3)\n",
        "  r4 = int(r4)\n",
        "  if len(range_intersect(range(r1, r2+1), range(r3, r4+1))) > 0:\n",
        "    count += 1\n",
        "count"
      ],
      "metadata": {
        "colab": {
          "base_uri": "https://localhost:8080/"
        },
        "id": "1RxsWUJ8f7qE",
        "outputId": "afbe3750-3f62-467e-ae6f-6c61bdad65a9"
      },
      "execution_count": 84,
      "outputs": [
        {
          "output_type": "execute_result",
          "data": {
            "text/plain": [
              "4"
            ]
          },
          "metadata": {},
          "execution_count": 84
        }
      ]
    },
    {
      "cell_type": "code",
      "source": [
        "\n",
        "def range_intersect(a: range, b:range) -> range:\n",
        "  return range(max((a.start, b.start)), min((a.stop, b.stop)))\n",
        "\n",
        "len(range_intersect(range(1, 10), range(5, 20)))"
      ],
      "metadata": {
        "colab": {
          "base_uri": "https://localhost:8080/"
        },
        "id": "DlY1vXYdgmy9",
        "outputId": "e63afcc3-dbeb-41f1-dee6-9d9978dcc6f9"
      },
      "execution_count": 81,
      "outputs": [
        {
          "output_type": "execute_result",
          "data": {
            "text/plain": [
              "5"
            ]
          },
          "metadata": {},
          "execution_count": 81
        }
      ]
    },
    {
      "cell_type": "code",
      "source": [
        "badges = []\n",
        "for line in open(f):\n",
        "  b1,b2 = line.split(',')\n",
        "  badges.append([str(b1),str(b2.replace('\\n',''))])\n",
        "count=0\n",
        "for i in range(len(badges)):\n",
        "\n",
        "  r1,r2 = badges[i][0].split('-')\n",
        "  r3,r4 =  badges[i][1].split('-')\n",
        "  r1 = int(r1)\n",
        "  r2 = int(r2)\n",
        "  r3 = int(r3)\n",
        "  r4 = int(r4)\n",
        "  if len(range_intersect(range(r1, r2+1), range(r3, r4+1))) > 0:\n",
        "    count +=1"
      ],
      "metadata": {
        "id": "-n_bX-ZMgnxI"
      },
      "execution_count": 85,
      "outputs": []
    },
    {
      "cell_type": "code",
      "source": [
        "count"
      ],
      "metadata": {
        "colab": {
          "base_uri": "https://localhost:8080/"
        },
        "id": "PPn_4jJ8hKqX",
        "outputId": "5229e4d5-1abb-424d-f3e3-450b1a7d8df4"
      },
      "execution_count": 86,
      "outputs": [
        {
          "output_type": "execute_result",
          "data": {
            "text/plain": [
              "867"
            ]
          },
          "metadata": {},
          "execution_count": 86
        }
      ]
    },
    {
      "cell_type": "code",
      "source": [],
      "metadata": {
        "id": "iTmwQAUUhLT4"
      },
      "execution_count": null,
      "outputs": []
    }
  ]
}