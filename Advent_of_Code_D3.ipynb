{
  "nbformat": 4,
  "nbformat_minor": 0,
  "metadata": {
    "colab": {
      "provenance": [],
      "mount_file_id": "1VvVqx3cP0_lkBJjbHf_LeiTVthNmDcKo",
      "authorship_tag": "ABX9TyMMcYV1lJYyhf05CTNlsEEr",
      "include_colab_link": true
    },
    "kernelspec": {
      "name": "python3",
      "display_name": "Python 3"
    },
    "language_info": {
      "name": "python"
    }
  },
  "cells": [
    {
      "cell_type": "markdown",
      "metadata": {
        "id": "view-in-github",
        "colab_type": "text"
      },
      "source": [
        "<a href=\"https://colab.research.google.com/github/benmccloskey/AdventOfCode2022/blob/main/Advent_of_Code_D3.ipynb\" target=\"_parent\"><img src=\"https://colab.research.google.com/assets/colab-badge.svg\" alt=\"Open In Colab\"/></a>"
      ]
    },
    {
      "cell_type": "markdown",
      "source": [
        "## Day 3 \n",
        "--- Day 3: Rucksack Reorganization ---\n",
        "One Elf has the important job of loading all of the rucksacks with supplies for the jungle journey. Unfortunately, that Elf didn't quite follow the packing instructions, and so a few items now need to be rearranged.\n",
        "\n",
        "Each rucksack has two large compartments. All items of a given type are meant to go into exactly one of the two compartments. The Elf that did the packing failed to follow this rule for exactly one item type per rucksack.\n",
        "\n",
        "The Elves have made a list of all of the items currently in each rucksack (your puzzle input), but they need your help finding the errors. Every item type is identified by a single lowercase or uppercase letter (that is, a and A refer to different types of items).\n",
        "\n",
        "The list of items for each rucksack is given as characters all on a single line. A given rucksack always has the same number of items in each of its two compartments, so the first half of the characters represent items in the first compartment, while the second half of the characters represent items in the second compartment.\n",
        "\n",
        "For example, suppose you have the following list of contents from six rucksacks:\n",
        "\n",
        "vJrwpWtwJgWrhcsFMMfFFhFp\n",
        "jqHRNqRjqzjGDLGLrsFMfFZSrLrFZsSL\n",
        "PmmdzqPrVvPwwTWBwg\n",
        "wMqvLMZHhHMvwLHjbvcjnnSBnvTQFn\n",
        "ttgJtRGJQctTZtZT\n",
        "CrZsJsPPZsGzwwsLwLmpwMDw\n",
        "The first rucksack contains the items vJrwpWtwJgWrhcsFMMfFFhFp, which means its first compartment contains the items vJrwpWtwJgWr, while the second compartment contains the items hcsFMMfFFhFp. The only item type that appears in both compartments is lowercase p.\n",
        "The second rucksack's compartments contain jqHRNqRjqzjGDLGL and rsFMfFZSrLrFZsSL. The only item type that appears in both compartments is uppercase L.\n",
        "The third rucksack's compartments contain PmmdzqPrV and vPwwTWBwg; the only common item type is uppercase P.\n",
        "The fourth rucksack's compartments only share item type v.\n",
        "The fifth rucksack's compartments only share item type t.\n",
        "The sixth rucksack's compartments only share item type s.\n",
        "To help prioritize item rearrangement, every item type can be converted to a priority:\n",
        "\n",
        "Lowercase item types a through z have priorities 1 through 26.\n",
        "Uppercase item types A through Z have priorities 27 through 52.\n",
        "In the above example, the priority of the item type that appears in both compartments of each rucksack is 16 (p), 38 (L), 42 (P), 22 (v), 20 (t), and 19 (s); the sum of these is 157.\n",
        "\n",
        "Find the item type that appears in both compartments of each rucksack. What is the sum of the priorities of those item types?"
      ],
      "metadata": {
        "id": "MFwX3WGUN76C"
      }
    },
    {
      "cell_type": "code",
      "source": [
        "test = ['vJrwpWtwJgWrhcsFMMfFFhFp',\n",
        "        'jqHRNqRjqzjGDLGLrsFMfFZSrLrFZsSL',\n",
        "        'PmmdzqPrVvPwwTWBwg',\n",
        "        'wMqvLMZHhHMvwLHjbvcjnnSBnvTQFn',\n",
        "        'ttgJtRGJQctTZtZT',\n",
        "        'CrZsJsPPZsGzwwsLwLmpwMDw']"
      ],
      "metadata": {
        "id": "TXrA91waN7WF"
      },
      "execution_count": 3,
      "outputs": []
    },
    {
      "cell_type": "code",
      "source": [
        "#Creatig the scoring dictionaries\n",
        "import string\n",
        "lowercase_letters = string.ascii_lowercase\n",
        "lowercase_score_dict = {}\n",
        "\n",
        "for i,letter in enumerate(lowercase_letters):\n",
        "  lowercase_score_dict[letter] = i + 1\n",
        "\n",
        "uppercase_letters = string.ascii_uppercase\n",
        "uppercase_score_dict = {}\n",
        "\n",
        "for i,letter in enumerate(uppercase_letters):\n",
        "  uppercase_score_dict[letter] = i + 27\n",
        "\n",
        "score = 0 \n",
        "for i,item in enumerate(test):\n",
        "  ruck1 = item[:len(item)//2]\n",
        "  ruck2 = item[len(item)//2:]\n",
        "  \n",
        "  for letter in set(ruck1):\n",
        "    if letter.islower() and letter in set(ruck2):\n",
        "      score += lowercase_score_dict[letter]\n",
        "    elif letter in ruck2:\n",
        "      score += uppercase_score_dict[letter]\n",
        "score"
      ],
      "metadata": {
        "colab": {
          "base_uri": "https://localhost:8080/"
        },
        "id": "xlvLGnV1O5S3",
        "outputId": "0c4344fa-4f0a-4ddd-c578-ffd011bce552"
      },
      "execution_count": 55,
      "outputs": [
        {
          "output_type": "execute_result",
          "data": {
            "text/plain": [
              "157"
            ]
          },
          "metadata": {},
          "execution_count": 55
        }
      ]
    },
    {
      "cell_type": "code",
      "source": [
        "score = 0 \n",
        "for i,item in enumerate(test):\n",
        "  ruck1 = item[:len(item)//2]\n",
        "  ruck2 = item[len(item)//2:]\n",
        "  \n",
        "  for letter in set(ruck1):\n",
        "    if letter.islower() and letter in set(ruck2):\n",
        "      score += lowercase_score_dict[letter]\n",
        "    elif letter in ruck2:\n",
        "      score += uppercase_score_dict[letter]\n",
        "score"
      ],
      "metadata": {
        "colab": {
          "base_uri": "https://localhost:8080/"
        },
        "id": "M6sjDibWPRiM",
        "outputId": "9d981dee-fee8-4df8-b999-5d7b80d491f0"
      },
      "execution_count": 54,
      "outputs": [
        {
          "output_type": "stream",
          "name": "stdout",
          "text": [
            "p 16\n",
            "L 38\n",
            "P 42\n",
            "v 22\n",
            "t 20\n",
            "s 19\n"
          ]
        },
        {
          "output_type": "execute_result",
          "data": {
            "text/plain": [
              "157"
            ]
          },
          "metadata": {},
          "execution_count": 54
        }
      ]
    },
    {
      "cell_type": "code",
      "source": [
        "f = '/content/drive/MyDrive/D3_P1.txt'\n",
        "\n",
        "score = 0\n",
        "for line in open(f):\n",
        "    ruck1 = line[:len(line)//2]\n",
        "    ruck2 = line[len(line)//2:]\n",
        "\n",
        "    for letter in set(ruck1):\n",
        "      if letter.islower() and letter in set(ruck2):\n",
        "        score += lowercase_score_dict[letter]\n",
        "      elif letter in ruck2:\n",
        "        score += uppercase_score_dict[letter]"
      ],
      "metadata": {
        "id": "kUe4vUGeQcen"
      },
      "execution_count": 58,
      "outputs": []
    },
    {
      "cell_type": "code",
      "source": [
        "print(score)"
      ],
      "metadata": {
        "colab": {
          "base_uri": "https://localhost:8080/"
        },
        "id": "40s_P3CPRyGa",
        "outputId": "05d7607a-159b-4116-8769-d3c3c1e1e1d8"
      },
      "execution_count": 59,
      "outputs": [
        {
          "output_type": "stream",
          "name": "stdout",
          "text": [
            "8202\n"
          ]
        }
      ]
    },
    {
      "cell_type": "markdown",
      "source": [
        "## Part2\n",
        "\n",
        "As you finish identifying the misplaced items, the Elves come to you with another issue.\n",
        "\n",
        "For safety, the Elves are divided into groups of three. Every Elf carries a badge that identifies their group. For efficiency, within each group of three Elves, the badge is the only item type carried by all three Elves. That is, if a group's badge is item type B, then all three Elves will have item type B somewhere in their rucksack, and at most two of the Elves will be carrying any other item type.\n",
        "\n",
        "The problem is that someone forgot to put this year's updated authenticity sticker on the badges. All of the badges need to be pulled out of the rucksacks so the new authenticity stickers can be attached.\n",
        "\n",
        "Additionally, nobody wrote down which item type corresponds to each group's badges. The only way to tell which item type is the right one is by finding the one item type that is common between all three Elves in each group.\n",
        "\n",
        "Every set of three lines in your list corresponds to a single group, but each group can have a different badge item type. So, in the above example, the first group's rucksacks are the first three lines:\n",
        "\n",
        "vJrwpWtwJgWrhcsFMMfFFhFp\n",
        "jqHRNqRjqzjGDLGLrsFMfFZSrLrFZsSL\n",
        "PmmdzqPrVvPwwTWBwg\n",
        "And the second group's rucksacks are the next three lines:\n",
        "\n",
        "wMqvLMZHhHMvwLHjbvcjnnSBnvTQFn\n",
        "ttgJtRGJQctTZtZT\n",
        "CrZsJsPPZsGzwwsLwLmpwMDw\n",
        "In the first group, the only item type that appears in all three rucksacks is lowercase r; this must be their badges. In the second group, their badge item type must be Z.\n",
        "\n",
        "Priorities for these items must still be found to organize the sticker attachment efforts: here, they are 18 (r) for the first group and 52 (Z) for the second group. The sum of these is 70.\n",
        "\n",
        "Find the item type that corresponds to the badges of each three-Elf group. What is the sum of the priorities of those item types?\n",
        "\n"
      ],
      "metadata": {
        "id": "cDyaza_mW-1i"
      }
    },
    {
      "cell_type": "code",
      "source": [
        "batched_items_test = []\n",
        "\n",
        "idx_1 = 0\n",
        "idx_2 =3\n",
        "for i in range(len(test)):\n",
        "  batched_items_test.append(test[idx_1:idx_2])\n",
        "  idx_1+=3\n",
        "  idx_2+=3\n",
        "  if idx_2 > len(test):\n",
        "    break\n",
        "score = 0\n",
        "\n",
        "for i in range(len(batched_items_test)):\n",
        "  ruck1 = batched_items_test[i][0]\n",
        "  ruck2 = batched_items_test[i][1]\n",
        "  ruck3 = batched_items_test[i][2]\n",
        "\n",
        "  for letter in set(ruck1):\n",
        "    if letter.islower() and letter in set(ruck2) and letter in set(ruck3):\n",
        "      score += lowercase_score_dict[letter]\n",
        "    elif letter in ruck2 and letter in set(ruck3):\n",
        "      score += uppercase_score_dict[letter]\n",
        "\n",
        "score"
      ],
      "metadata": {
        "colab": {
          "base_uri": "https://localhost:8080/"
        },
        "id": "lZeUF50gY5Gs",
        "outputId": "7e97b20f-ebd4-4905-a297-809f3f77c2c2"
      },
      "execution_count": 78,
      "outputs": [
        {
          "output_type": "execute_result",
          "data": {
            "text/plain": [
              "70"
            ]
          },
          "metadata": {},
          "execution_count": 78
        }
      ]
    },
    {
      "cell_type": "code",
      "source": [
        "f = '/content/drive/MyDrive/D3_P1.txt'\n",
        "\n",
        "items = []\n",
        "for line in open(f):\n",
        "  items.append(line.replace('\\n',''))\n",
        "\n",
        "batched_items = []\n",
        "\n",
        "idx_1 = 0\n",
        "idx_2 =3\n",
        "score = 0\n",
        "for i in range(len(items)):\n",
        "  batched_items.append(items[idx_1:idx_2])\n",
        "  idx_1+=3\n",
        "  idx_2+=3\n",
        "  if idx_2 > len(items):\n",
        "    break\n",
        "\n",
        "for i in range(len(batched_items)):\n",
        "  ruck1 = batched_items[i][0]\n",
        "  ruck2 = batched_items[i][1]\n",
        "  ruck3 = batched_items[i][2]\n",
        "\n",
        "  for letter in set(ruck1):\n",
        "    if letter.islower() and letter in set(ruck2) and letter in set(ruck3):\n",
        "      score += lowercase_score_dict[letter]\n",
        "    elif letter in ruck2 and letter in set(ruck3):\n",
        "      score += uppercase_score_dict[letter]\n",
        "\n",
        "  "
      ],
      "metadata": {
        "id": "seA9zbTXSFG8"
      },
      "execution_count": 83,
      "outputs": []
    },
    {
      "cell_type": "code",
      "source": [
        "print(score)"
      ],
      "metadata": {
        "colab": {
          "base_uri": "https://localhost:8080/"
        },
        "id": "RMTGwdksZ9Nd",
        "outputId": "4a922e88-fc84-4df5-d57b-48dd956773ed"
      },
      "execution_count": 84,
      "outputs": [
        {
          "output_type": "stream",
          "name": "stdout",
          "text": [
            "2864\n"
          ]
        }
      ]
    },
    {
      "cell_type": "code",
      "source": [],
      "metadata": {
        "id": "qGGsDYXcaCax"
      },
      "execution_count": null,
      "outputs": []
    }
  ]
}