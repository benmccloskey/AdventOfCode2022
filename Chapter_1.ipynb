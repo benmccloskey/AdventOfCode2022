{
  "nbformat": 4,
  "nbformat_minor": 0,
  "metadata": {
    "colab": {
      "provenance": [],
      "toc_visible": true,
      "authorship_tag": "ABX9TyNOccInBElNfFiIoF81WJkW",
      "include_colab_link": true
    },
    "kernelspec": {
      "name": "python3",
      "display_name": "Python 3"
    },
    "language_info": {
      "name": "python"
    }
  },
  "cells": [
    {
      "cell_type": "markdown",
      "metadata": {
        "id": "view-in-github",
        "colab_type": "text"
      },
      "source": [
        "<a href=\"https://colab.research.google.com/github/benmccloskey/AdventOfCode2022/blob/main/Chapter_1.ipynb\" target=\"_parent\"><img src=\"https://colab.research.google.com/assets/colab-badge.svg\" alt=\"Open In Colab\"/></a>"
      ]
    },
    {
      "cell_type": "code",
      "execution_count": 1,
      "metadata": {
        "colab": {
          "base_uri": "https://localhost:8080/"
        },
        "id": "HG5xvLt-sNI2",
        "outputId": "99b291ee-68ed-4246-faf3-d40ac285594c"
      },
      "outputs": [
        {
          "output_type": "stream",
          "name": "stdout",
          "text": [
            "Looking in indexes: https://pypi.org/simple, https://us-python.pkg.dev/colab-wheels/public/simple/\n",
            "Requirement already satisfied: lxml in /usr/local/lib/python3.8/dist-packages (4.9.2)\n"
          ]
        }
      ],
      "source": [
        "from urllib.request import urlopen\n",
        "from bs4 import BeautifulSoup\n",
        "\n",
        "!pip install lxml\n",
        "import lxml"
      ]
    },
    {
      "cell_type": "code",
      "source": [
        "#Url open- open a remote object across a network \n",
        "html = urlopen('http://pythonscraping.com/pages/page1.html')\n",
        "print(html.read())"
      ],
      "metadata": {
        "id": "kcpbRnoIsukH",
        "colab": {
          "base_uri": "https://localhost:8080/"
        },
        "outputId": "53167956-ec2a-4e1f-c6ae-39fa56ce79ea"
      },
      "execution_count": 2,
      "outputs": [
        {
          "output_type": "stream",
          "name": "stdout",
          "text": [
            "b'<html>\\n<head>\\n<title>A Useful Page</title>\\n</head>\\n<body>\\n<h1>An Interesting Title</h1>\\n<div>\\nLorem ipsum dolor sit amet, consectetur adipisicing elit, sed do eiusmod tempor incididunt ut labore et dolore magna aliqua. Ut enim ad minim veniam, quis nostrud exercitation ullamco laboris nisi ut aliquip ex ea commodo consequat. Duis aute irure dolor in reprehenderit in voluptate velit esse cillum dolore eu fugiat nulla pariatur. Excepteur sint occaecat cupidatat non proident, sunt in culpa qui officia deserunt mollit anim id est laborum.\\n</div>\\n</body>\\n</html>\\n'\n"
          ]
        }
      ]
    },
    {
      "cell_type": "code",
      "source": [
        "ç#soup = BeautifulSoup(html.read(), 'lxml')\n",
        "soup = BeautifulSoup(html.read(), 'html5lib')"
      ],
      "metadata": {
        "id": "jSE8NP35srX-"
      },
      "execution_count": 3,
      "outputs": []
    },
    {
      "cell_type": "code",
      "source": [
        "print(soup.h1)"
      ],
      "metadata": {
        "colab": {
          "base_uri": "https://localhost:8080/"
        },
        "id": "3qChabkh_DJy",
        "outputId": "7d514b71-b420-45b6-a397-d04aaf3ddf59"
      },
      "execution_count": 4,
      "outputs": [
        {
          "output_type": "stream",
          "name": "stdout",
          "text": [
            "<h1>An Interesting Title</h1>\n"
          ]
        }
      ]
    },
    {
      "cell_type": "markdown",
      "source": [
        "# Exception Handling\n",
        "-use this when you have script running overnight in case an error is raised"
      ],
      "metadata": {
        "id": "JtJV8I_2Tpvt"
      }
    },
    {
      "cell_type": "code",
      "source": [
        "from urllib.error import HTTPError\n",
        "\n",
        "try:\n",
        "  html = urlopen('http://pythonscraping.com/pages/page1.html')\n",
        "except HTTPError as e:\n",
        "  print(e)\n",
        "\n",
        "  "
      ],
      "metadata": {
        "id": "zzj1t2il_mVV"
      },
      "execution_count": 6,
      "outputs": []
    },
    {
      "cell_type": "code",
      "source": [
        "from urllib.request import urlopen\n",
        "from urllib.error import HTTPError\n",
        "from urllib.error import URLError\n",
        "\n",
        "try:\n",
        "  html = urlopen('http://pythonscraping.com/pages/page1.html')\n",
        "except HTMLError as e: \n",
        "  print(e)\n",
        "except URLError as e:\n",
        "  print(e)\n",
        "else:\n",
        "  print('It Worked!')"
      ],
      "metadata": {
        "colab": {
          "base_uri": "https://localhost:8080/"
        },
        "id": "Bj9tM5LgURkb",
        "outputId": "9fb15341-e532-4ccc-ea9c-520366403774"
      },
      "execution_count": 7,
      "outputs": [
        {
          "output_type": "stream",
          "name": "stdout",
          "text": [
            "It Worked!\n"
          ]
        }
      ]
    },
    {
      "cell_type": "markdown",
      "source": [
        "# Guarding Against Nonexistent Tags"
      ],
      "metadata": {
        "id": "zXdufNgdVrVJ"
      }
    },
    {
      "cell_type": "code",
      "source": [
        "def get_title(url):\n",
        "  try:\n",
        "    html = urlopen(url)\n",
        "  except HTTPError as e:\n",
        "    return None\n",
        "  \n",
        "  try:\n",
        "    bs = BeautifulSoup(html.read(), 'html.parser')\n",
        "    title = bs.body.h1\n",
        "  except AttributeError as e:\n",
        "    return None\n",
        "  return title\n"
      ],
      "metadata": {
        "id": "4VTDZUgnVqXt"
      },
      "execution_count": 25,
      "outputs": []
    },
    {
      "cell_type": "code",
      "source": [
        "title = get_title('http://pythonscraping.com/pages/page1.html')\n",
        "\n",
        "if title == None:\n",
        "  print('Title was not found')\n",
        "else:\n",
        "  print(title)"
      ],
      "metadata": {
        "colab": {
          "base_uri": "https://localhost:8080/"
        },
        "id": "pEih_Ug6VLZ6",
        "outputId": "5a077ec8-3a76-4742-9f50-34d52c3ad87c"
      },
      "execution_count": 27,
      "outputs": [
        {
          "output_type": "stream",
          "name": "stdout",
          "text": [
            "<h1>An Interesting Title</h1>\n"
          ]
        }
      ]
    },
    {
      "cell_type": "markdown",
      "source": [],
      "metadata": {
        "id": "HsuuCdddXduE"
      }
    },
    {
      "cell_type": "code",
      "source": [],
      "metadata": {
        "id": "M46jbtOYXP86"
      },
      "execution_count": null,
      "outputs": []
    }
  ]
}